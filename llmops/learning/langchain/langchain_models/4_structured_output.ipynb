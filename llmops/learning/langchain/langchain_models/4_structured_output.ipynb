{
 "cells": [
  {
   "cell_type": "markdown",
   "id": "9aed916b",
   "metadata": {},
   "source": [
    "# Structured Output In LLM's\n",
    "1. to use tools like calculator structured output is required\n",
    "2. structured output can be stored in database and can be used data for communicating with other LLM models\n",
    "\n",
    "3. with_structured_output function used in langchain for llm's which support this function\n",
    "4. In langchin output parser function helps to gernerate structured output from llm's which does not support with_structured_op function\n"
   ]
  },
  {
   "cell_type": "markdown",
   "id": "83772218",
   "metadata": {},
   "source": [
    "## Types to create sturectured output in Langchain\n",
    "\n",
    "1. TypedDict\n",
    "2. Pydantic\n",
    "3. Json_schema"
   ]
  },
  {
   "cell_type": "markdown",
   "id": "a57883a1",
   "metadata": {},
   "source": []
  }
 ],
 "metadata": {
  "language_info": {
   "name": "python"
  }
 },
 "nbformat": 4,
 "nbformat_minor": 5
}
