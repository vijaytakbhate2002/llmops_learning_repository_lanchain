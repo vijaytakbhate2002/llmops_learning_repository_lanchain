{
 "cells": [
  {
   "cell_type": "markdown",
   "id": "b14db859",
   "metadata": {},
   "source": [
    "# Lanchain_components\n",
    "\n",
    "- Models\n",
    "- Prompts\n",
    "- Chains\n",
    "- Indexes\n",
    "- Memory\n",
    "- Agents"
   ]
  },
  {
   "cell_type": "markdown",
   "id": "1259a474",
   "metadata": {},
   "source": []
  },
  {
   "cell_type": "markdown",
   "id": "d06e13b4",
   "metadata": {},
   "source": [
    "## Types of models:\n",
    "1. Language Models (Text as input and text as output)\n",
    "2. Embedding Models (Text as input and embeddings as output)"
   ]
  },
  {
   "cell_type": "markdown",
   "id": "13f36675",
   "metadata": {},
   "source": [
    "## Prompts:\n",
    "Text input provided to LLM models are called prompts\n",
    "1. Few Shot Prompting (Show some examples to LLM and then ask to solve new problem)\n",
    "2. Dynamic prompt (summarize the topic in this tone)\n",
    "3. Role based prompt (Behave like a interviewee and answer the questions)\n"
   ]
  },
  {
   "cell_type": "markdown",
   "id": "26b667b0",
   "metadata": {},
   "source": []
  },
  {
   "cell_type": "markdown",
   "id": "d490d8d2",
   "metadata": {},
   "source": [
    "## Chains:\n",
    "- Used to create pipelines\n",
    "- Chains are connected with previous block output to next step input\n",
    "\n",
    "1. Parallel chains\n",
    "2. Serial chains\n",
    "3. Condition based chains"
   ]
  },
  {
   "cell_type": "markdown",
   "id": "fc4b673b",
   "metadata": {},
   "source": [
    "## Indexes:\n",
    "1. Document loader\n",
    "2. Text splitter\n",
    "3. Vector store (Use embedding to create vectores)\n",
    "4. Retriever (Generate embeddings and do simantic search on vectore database)\n",
    "\n",
    "- Indexes connect your application to external knowledge-such as PDF's websites or databases"
   ]
  },
  {
   "cell_type": "markdown",
   "id": "96daa96b",
   "metadata": {},
   "source": [
    "## Memory:\n",
    "- LLM API calls are stateless \n",
    "\n",
    "1. ConversationBufferMemory (Stores recent messages)\n",
    "2. ConversationBufferWindowMemory (Last Interactions)\n",
    "3. Summarizer-Based-Memory (Summarize old conversation and store it)\n",
    "4. Custom Memory"
   ]
  },
  {
   "cell_type": "markdown",
   "id": "22af01d4",
   "metadata": {},
   "source": [
    "## Agents:\n",
    "- Agents are the LLM's with reasoning capacity with access of various tools that helps user to do their tasks through agents."
   ]
  },
  {
   "cell_type": "markdown",
   "id": "8ad66f97",
   "metadata": {},
   "source": []
  }
 ],
 "metadata": {
  "language_info": {
   "name": "python"
  }
 },
 "nbformat": 4,
 "nbformat_minor": 5
}
