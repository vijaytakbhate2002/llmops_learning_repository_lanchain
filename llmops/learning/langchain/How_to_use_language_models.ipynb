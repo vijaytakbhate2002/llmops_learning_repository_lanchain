{
 "cells": [
  {
   "cell_type": "markdown",
   "id": "22ba75b6",
   "metadata": {},
   "source": [
    "## LLM Vs Chat Models\n",
    "\n",
    "- LLM: Genral purpose language models (Does not support chat history) \n",
    "- Chat Models: Conversational language models (Conversation history enabled)"
   ]
  },
  {
   "cell_type": "code",
   "execution_count": null,
   "id": "5b304fdc",
   "metadata": {},
   "outputs": [],
   "source": []
  },
  {
   "cell_type": "code",
   "execution_count": null,
   "id": "93e1f521",
   "metadata": {},
   "outputs": [],
   "source": []
  },
  {
   "cell_type": "code",
   "execution_count": null,
   "id": "9741436a",
   "metadata": {},
   "outputs": [],
   "source": []
  }
 ],
 "metadata": {
  "language_info": {
   "name": "python"
  }
 },
 "nbformat": 4,
 "nbformat_minor": 5
}
